{
  "cells": [
    {
      "cell_type": "markdown",
      "metadata": {
        "id": "ooiU-8tEOrmU"
      },
      "source": [
        "## Collaborative Filtering\n",
        "\n",
        "These notebook will compare the performance of _Neural Collaborative Filtering_ **[1]** and _Neural Graph Collaborative Filtering_ **[2]** papers on MovieLens dataset. We would like to see if there is a difference between non-graph based method and a graph-based method on collaborative filtering using MovieLens dataset. We will benefit from [this GitHub repository](https://github.com/talkingwallace/NGCF-pytorch/blob/master/GraphNCF/GCFmodel.py) **[3]** for the implementation of these two models.\n",
        "\n",
        "__Neural Collaborative Filtering:__ When it comes to model the key factor in collaborative filtering -- the interaction between user and item features, they still resorted to matrix factorization and applied an inner product on the latent features of users and items. By replacing the inner product with a neural architecture that can learn an arbitrary function from data, we present a general framework named NCF, short for Neural network-based Collaborative Filtering.\n",
        "\n",
        "__Neural Graph Collaborative Filtering:__ In this work, we propose to integrate the user-item interactions --- more specifically the bipartite graph structure --- into the embedding process. We develop a new recommendation framework Neural Graph Collaborative Filtering (NGCF), which exploits the user-item graph structure by propagating embeddings on it.\n",
        "\n",
        "***\n",
        "\n",
        "### Libraries"
      ]
    },
    {
      "cell_type": "code",
      "execution_count": 23,
      "metadata": {
        "id": "50H895KBOrmX"
      },
      "outputs": [],
      "source": [
        "%matplotlib inline\n",
        "import matplotlib.pyplot as plt\n",
        "import torch\n",
        "import torch.nn as nn\n",
        "from torch.nn import Module\n",
        "from scipy.sparse import coo_matrix\n",
        "from scipy.sparse import vstack\n",
        "from scipy import sparse\n",
        "import numpy as np\n",
        "import pandas as pd\n",
        "from torch.optim import Adam\n",
        "from torch.nn import MSELoss\n",
        "import time\n",
        "\n",
        "np.random.seed(23)"
      ]
    },
    {
      "cell_type": "code",
      "source": [
        "!git clone https://github.com/Movinder/movielens-imdb-exploration.git\n"
      ],
      "metadata": {
        "colab": {
          "base_uri": "https://localhost:8080/"
        },
        "id": "d5qNjiyvPqkZ",
        "outputId": "ccc69acb-f77d-4e34-f075-132b4adc2747"
      },
      "execution_count": 24,
      "outputs": [
        {
          "output_type": "stream",
          "name": "stdout",
          "text": [
            "fatal: destination path 'movielens-imdb-exploration' already exists and is not an empty directory.\n"
          ]
        }
      ]
    },
    {
      "cell_type": "markdown",
      "metadata": {
        "id": "jEtoq6g5OrmY"
      },
      "source": [
        "### Data Preprocessing"
      ]
    },
    {
      "cell_type": "code",
      "execution_count": 25,
      "metadata": {
        "id": "aWCyLwWxOrmY"
      },
      "outputs": [],
      "source": [
        "from torch.utils.data import Dataset, DataLoader\n",
        "from torchvision import transforms, utils\n",
        "\n",
        "class RatingsDataset(Dataset):\n",
        "    \"\"\"Ratings Dataset\"\"\"\n",
        "\n",
        "    def __init__(self):\n",
        "        \"\"\"\n",
        "        Args:\n",
        "            csv_file (string): Path to the csv file with ratings.\n",
        "        \"\"\"\n",
        "        self.csv = pd.read_csv('/content/movielens-imdb-exploration/data/ratings.csv')\n",
        "\n",
        "        self.user_ids = list(self.csv.user_id-1)\n",
        "        self.movie_ids = list(self.csv.movie_id_ml-1)\n",
        "        self.ratings = list(self.csv.rating)\n",
        "\n",
        "        self.userNums = np.max(self.user_ids)+1\n",
        "        self.movieNums = np.max(self.movie_ids)+1\n",
        "\n",
        "    def __len__(self):\n",
        "        return len(self.csv)\n",
        "\n",
        "    def __getitem__(self, idx):\n",
        "        return {\n",
        "            'user': self.user_ids[idx],\n",
        "            'movie': self.movie_ids[idx],\n",
        "            'rating': self.ratings[idx]\n",
        "        }\n",
        "\n",
        "    def get_user_number(self):\n",
        "        return self.userNums\n",
        "\n",
        "    def get_movie_number(self):\n",
        "        return self.movieNums"
      ]
    },
    {
      "cell_type": "code",
      "execution_count": 26,
      "metadata": {
        "id": "SgpbOw4mOrmZ",
        "colab": {
          "base_uri": "https://localhost:8080/"
        },
        "outputId": "930ec2d6-c116-4a55-c047-f386ffcbe14f"
      },
      "outputs": [
        {
          "output_type": "stream",
          "name": "stdout",
          "text": [
            "100000\n"
          ]
        }
      ],
      "source": [
        "rt = pd.read_csv('/content/movielens-imdb-exploration/data/ratings.csv')\n",
        "rt['user_id'] = rt['user_id'] - 1\n",
        "rt['movie_id_ml'] = rt['movie_id_ml'] - 1\n",
        "\n",
        "dataset = RatingsDataset()\n",
        "\n",
        "train_size = int(0.6 * len(dataset))\n",
        "val_size = int(0.2 * len(dataset))\n",
        "test_size = len(dataset) - train_size - val_size\n",
        "\n",
        "train_dataset, val_dataset, test_dataset = torch.utils.data.random_split(dataset, [train_size, val_size, test_size])\n",
        "print(len(dataset))"
      ]
    },
    {
      "cell_type": "markdown",
      "metadata": {
        "id": "0HdV0XU0OrmZ"
      },
      "source": [
        "### Model Implementation - Neural Collaborative Filtering"
      ]
    },
    {
      "cell_type": "code",
      "execution_count": 27,
      "metadata": {
        "id": "5dvC9It7OrmZ"
      },
      "outputs": [],
      "source": [
        "class NCF(Module):\n",
        "\n",
        "    def __init__(self, userNum, itemNum, dim=64, first_layer=128):\n",
        "        super(NCF, self).__init__()\n",
        "\n",
        "        self.uEmbd = nn.Embedding(userNum, dim)\n",
        "        self.iEmbd = nn.Embedding(itemNum, dim)\n",
        "\n",
        "        self.mf_uEmbd = nn.Embedding(userNum, dim)\n",
        "        self.mf_iEmbd = nn.Embedding(itemNum, dim)\n",
        "\n",
        "        self.mlp = nn.Sequential(nn.Linear(dim*2, first_layer),\n",
        "                                       nn.Dropout(0.25),\n",
        "                                       nn.ReLU(inplace=True),\n",
        "                                       nn.Linear(first_layer, first_layer//2),\n",
        "                                       nn.Dropout(0.25),\n",
        "                                       nn.ReLU(inplace=True),\n",
        "                                       nn.Linear(first_layer//2, first_layer//4),\n",
        "                                       nn.Dropout(0.25),\n",
        "                                       nn.ReLU(inplace=True),\n",
        "                                       nn.Linear(first_layer//4, first_layer//4))\n",
        "\n",
        "        self.neumf = nn.Linear(dim+first_layer//4, 1)\n",
        "\n",
        "    def forward(self, userIdx,itemIdx):\n",
        "        uembd = self.uEmbd(userIdx)\n",
        "        iembd = self.iEmbd(itemIdx)\n",
        "        embd = torch.cat([uembd, iembd], dim=1)\n",
        "\n",
        "        mlp = self.mlp(embd)\n",
        "        mf = self.uEmbd(userIdx)*self.iEmbd(itemIdx)\n",
        "\n",
        "        prediction = self.neumf(torch.cat([mlp, mf], dim=1))\n",
        "\n",
        "        return prediction.flatten()"
      ]
    },
    {
      "cell_type": "markdown",
      "metadata": {
        "id": "n7RYYBp9Orma"
      },
      "source": [
        "### Model Implementation - Neural Graph Collaborative Filtering"
      ]
    },
    {
      "cell_type": "code",
      "execution_count": 28,
      "metadata": {
        "id": "n0dVHO8rOrma"
      },
      "outputs": [],
      "source": [
        "class GNNLayer(Module):\n",
        "\n",
        "    def __init__(self,inF,outF):\n",
        "\n",
        "        super(GNNLayer,self).__init__()\n",
        "        self.inF = inF\n",
        "        self.outF = outF\n",
        "        self.linear = torch.nn.Linear(in_features=inF,out_features=outF)\n",
        "        self.interActTransform = torch.nn.Linear(in_features=inF,out_features=outF)\n",
        "\n",
        "    def forward(self, laplacianMat,selfLoop,features):\n",
        "        L1 = laplacianMat + selfLoop\n",
        "        L2 = laplacianMat.cuda()\n",
        "        L1 = L1.cuda()\n",
        "        inter_feature = torch.mul(features,features)\n",
        "\n",
        "        inter_part1 = self.linear(torch.sparse.mm(L1,features))\n",
        "        inter_part2 = self.interActTransform(torch.sparse.mm(L2,inter_feature))\n",
        "\n",
        "        return inter_part1+inter_part2\n",
        "\n",
        "class NGCF(Module):\n",
        "\n",
        "    def __init__(self,userNum,itemNum,rt,embedSize=100,layers=[100,80,50],useCuda=True):\n",
        "\n",
        "        super(NGCF,self).__init__()\n",
        "        self.useCuda = useCuda\n",
        "        self.userNum = userNum\n",
        "        self.itemNum = itemNum\n",
        "        self.uEmbd = nn.Embedding(userNum,embedSize)\n",
        "        self.iEmbd = nn.Embedding(itemNum,embedSize)\n",
        "        self.GNNlayers = torch.nn.ModuleList()\n",
        "        self.LaplacianMat = self.buildLaplacianMat(rt) # sparse format\n",
        "        self.selfLoop = self.getSparseEye(self.userNum+self.itemNum)\n",
        "\n",
        "        self.transForm1 = nn.Linear(in_features=layers[-1]*(len(layers))*2,out_features=64)\n",
        "        self.transForm2 = nn.Linear(in_features=64,out_features=32)\n",
        "        self.transForm3 = nn.Linear(in_features=32,out_features=1)\n",
        "\n",
        "        for From,To in zip(layers[:-1],layers[1:]):\n",
        "            self.GNNlayers.append(GNNLayer(From,To))\n",
        "\n",
        "    def getSparseEye(self,num):\n",
        "        i = torch.LongTensor([[k for k in range(0,num)],[j for j in range(0,num)]])\n",
        "        val = torch.FloatTensor([1]*num)\n",
        "        return torch.sparse.FloatTensor(i,val)\n",
        "\n",
        "    def buildLaplacianMat(self,rt):\n",
        "\n",
        "        rt_item = rt['movie_id_ml'] + self.userNum\n",
        "        uiMat = coo_matrix((rt['rating'], (rt['user_id'], rt['movie_id_ml'])))\n",
        "\n",
        "        uiMat_upperPart = coo_matrix((rt['rating'], (rt['user_id'], rt_item)))\n",
        "        uiMat = uiMat.transpose()\n",
        "        uiMat.resize((self.itemNum, self.userNum + self.itemNum))\n",
        "\n",
        "        A = sparse.vstack([uiMat_upperPart,uiMat])\n",
        "        selfLoop = sparse.eye(self.userNum+self.itemNum)\n",
        "        sumArr = (A>0).sum(axis=1)\n",
        "        diag = list(np.array(sumArr.flatten())[0])\n",
        "        diag = np.power(diag,-0.5)\n",
        "        D = sparse.diags(diag)\n",
        "        L = D * A * D\n",
        "        L = sparse.coo_matrix(L)\n",
        "        row = L.row\n",
        "        col = L.col\n",
        "        i = torch.LongTensor([row,col])\n",
        "        data = torch.FloatTensor(L.data)\n",
        "        SparseL = torch.sparse.FloatTensor(i,data)\n",
        "        return SparseL\n",
        "\n",
        "    def getFeatureMat(self):\n",
        "        uidx = torch.LongTensor([i for i in range(self.userNum)])\n",
        "        iidx = torch.LongTensor([i for i in range(self.itemNum)])\n",
        "        if self.useCuda == True:\n",
        "            uidx = uidx.cuda()\n",
        "            iidx = iidx.cuda()\n",
        "\n",
        "        userEmbd = self.uEmbd(uidx)\n",
        "        itemEmbd = self.iEmbd(iidx)\n",
        "        features = torch.cat([userEmbd,itemEmbd],dim=0)\n",
        "        return features\n",
        "\n",
        "    def forward(self,userIdx,itemIdx):\n",
        "\n",
        "        itemIdx = itemIdx + self.userNum\n",
        "        userIdx = list(userIdx.cpu().data)\n",
        "        itemIdx = list(itemIdx.cpu().data)\n",
        "        # gcf data propagation\n",
        "        features = self.getFeatureMat()\n",
        "        finalEmbd = features.clone()\n",
        "        for gnn in self.GNNlayers:\n",
        "            features = gnn(self.LaplacianMat,self.selfLoop,features)\n",
        "            features = nn.LeakyReLU()(features)\n",
        "            finalEmbd = torch.cat([finalEmbd,features.clone()],dim=1)\n",
        "\n",
        "        userEmbd = finalEmbd[userIdx]\n",
        "        itemEmbd = finalEmbd[itemIdx]\n",
        "        embd = torch.cat([userEmbd,itemEmbd],dim=1)\n",
        "\n",
        "        embd = nn.ReLU()(self.transForm1(embd))\n",
        "        embd = nn.ReLU()(self.transForm2(embd))\n",
        "        embd = self.transForm3(embd)\n",
        "        prediction = embd.flatten()\n",
        "\n",
        "        return prediction"
      ]
    },
    {
      "cell_type": "markdown",
      "metadata": {
        "id": "vara1Mt2Orma"
      },
      "source": [
        "### Training"
      ]
    },
    {
      "cell_type": "code",
      "execution_count": 29,
      "metadata": {
        "id": "5qxb6bWoOrma"
      },
      "outputs": [],
      "source": [
        "def train(loader, model, optim, loss):\n",
        "    model.train()\n",
        "    ls = 0.\n",
        "\n",
        "    for id, batch in enumerate(loader):\n",
        "        optim.zero_grad()\n",
        "        prediction = model(batch['user'].cuda(0), batch['movie'].cuda(0))\n",
        "        loss_ = loss(batch['rating'].float().cuda(0), prediction)\n",
        "        loss_.backward()\n",
        "        optim.step()\n",
        "        ls += loss_.item()\n",
        "\n",
        "    return ls / len(loader)\n",
        "\n",
        "\n",
        "def evaluate(loader, model, loss):\n",
        "    model.eval()\n",
        "    ls = 0.\n",
        "\n",
        "    with torch.no_grad():\n",
        "        for id, batch in enumerate(loader):\n",
        "            prediction = model(batch['user'].cuda(0), batch['movie'].cuda(0))\n",
        "            loss_ = loss(batch['rating'].float().cuda(0), prediction)\n",
        "            ls += loss_.item()\n",
        "\n",
        "    return ls / len(loader)"
      ]
    },
    {
      "cell_type": "code",
      "execution_count": 30,
      "metadata": {
        "id": "lVZlNbJNOrmb"
      },
      "outputs": [],
      "source": [
        "def trainer(trainLoader, valLoader, model, optim, loss, epoch, model_name, verbose=True):\n",
        "\n",
        "    train_losses = []\n",
        "    val_losses = []\n",
        "\n",
        "    best_val = np.inf\n",
        "\n",
        "    for i in range(epoch):\n",
        "        start = time.time()\n",
        "        TL = train(trainLoader, model, optim, loss)\n",
        "        VL = evaluate(valLoader, model, loss)\n",
        "\n",
        "        if verbose:\n",
        "            print(\"Epoch {} | Train Loss: {:.3f} - Val Loss: {:.3f} - in {:.3f} mins.\".format(i+1, TL, VL, (time.time()-start)/60))\n",
        "\n",
        "        if VL < best_val:\n",
        "            torch.save(model.state_dict(), model_name + '.pth.tar')\n",
        "            best_val = VL\n",
        "\n",
        "        train_losses.append(TL)\n",
        "        val_losses.append(VL)\n",
        "\n",
        "    torch.save({\n",
        "        'train_losses': train_losses,\n",
        "        'val_losses': val_losses,\n",
        "        'min_val_loss': min(val_losses)\n",
        "    }, model_name + '_loss.pth.tar')\n",
        "\n",
        "    return torch.load(model_name + '_loss.pth.tar')"
      ]
    },
    {
      "cell_type": "markdown",
      "metadata": {
        "id": "24OOQpnTOrmb"
      },
      "source": [
        "### NeuMF Training"
      ]
    },
    {
      "cell_type": "code",
      "execution_count": 31,
      "metadata": {
        "id": "VjNn2mm7Ormb"
      },
      "outputs": [],
      "source": [
        "# EMBEDDING_DIM = 64\n",
        "\n",
        "# GRID_SEARCH = {\n",
        "#     'batch_size': [128, 256, 512],\n",
        "#     'first_layer': [64, 128, 256],\n",
        "#     'learning_rate': [1e-3, 1e-2]\n",
        "# }"
      ]
    },
    {
      "cell_type": "code",
      "execution_count": 32,
      "metadata": {
        "id": "jys-iMnGOrmb"
      },
      "outputs": [],
      "source": [
        "# for bs in GRID_SEARCH['batch_size']:\n",
        "#     for layer in GRID_SEARCH['first_layer']:\n",
        "#         for lr in GRID_SEARCH['learning_rate']:\n",
        "\n",
        "#             trainLoader = torch.utils.data.DataLoader(train_dataset, batch_size=bs, shuffle=True, num_workers=4, drop_last=True)\n",
        "#             valLoader = torch.utils.data.DataLoader(val_dataset, batch_size=bs, shuffle=False, num_workers=4, drop_last=True)\n",
        "\n",
        "#             model = NCF(dataset.get_user_number(), dataset.get_movie_number(),\n",
        "#                         dim=EMBEDDING_DIM, first_layer=layer).cuda(0)\n",
        "\n",
        "#             optim = Adam(model.parameters(), lr=lr)\n",
        "#             loss = nn.L1Loss()\n",
        "#             epoch = 20\n",
        "\n",
        "#             ncf_out = trainer(trainLoader, valLoader, model, optim, loss, epoch, 'ncf_model', False)\n",
        "\n",
        "#             print(\"Batch Size: {} | First Layer Neuron: {} | Learning Rate: {} - Min. Val. Loss: {}\".format(bs,\n",
        "#                                                                                                             layer,\n",
        "#                                                                                                             lr,\n",
        "#                                                                                                             ncf_out['min_val_loss']))"
      ]
    },
    {
      "cell_type": "code",
      "execution_count": 33,
      "metadata": {
        "colab": {
          "base_uri": "https://localhost:8080/"
        },
        "id": "FRr6CRDyOrmb",
        "outputId": "35467cf5-fbe3-483d-e2ba-6e6bd1515bb6"
      },
      "outputs": [
        {
          "output_type": "stream",
          "name": "stderr",
          "text": [
            "/usr/local/lib/python3.10/dist-packages/torch/utils/data/dataloader.py:617: UserWarning: This DataLoader will create 4 worker processes in total. Our suggested max number of worker in current system is 2, which is smaller than what this DataLoader is going to create. Please be aware that excessive worker creation might get DataLoader running slow or even freeze, lower the worker number to avoid potential slowness/freeze if necessary.\n",
            "  warnings.warn(\n"
          ]
        },
        {
          "output_type": "stream",
          "name": "stdout",
          "text": [
            "Batch Size: 128 | First Layer Neuron: 64 | Learning Rate: 0.005 - Min. Val. Loss: 0.7652142433783947\n"
          ]
        },
        {
          "output_type": "stream",
          "name": "stderr",
          "text": [
            "<ipython-input-30-361a62dd9437>:29: FutureWarning: You are using `torch.load` with `weights_only=False` (the current default value), which uses the default pickle module implicitly. It is possible to construct malicious pickle data which will execute arbitrary code during unpickling (See https://github.com/pytorch/pytorch/blob/main/SECURITY.md#untrusted-models for more details). In a future release, the default value for `weights_only` will be flipped to `True`. This limits the functions that could be executed during unpickling. Arbitrary objects will no longer be allowed to be loaded via this mode unless they are explicitly allowlisted by the user via `torch.serialization.add_safe_globals`. We recommend you start setting `weights_only=True` for any use case where you don't have full control of the loaded file. Please open an issue on GitHub for any issues related to this experimental feature.\n",
            "  return torch.load(model_name + '_loss.pth.tar')\n"
          ]
        }
      ],
      "source": [
        "bs = 128\n",
        "layer = 64\n",
        "lr = 0.005\n",
        "EMBEDDING_DIM = 64\n",
        "\n",
        "trainLoader = torch.utils.data.DataLoader(train_dataset, batch_size=bs, shuffle=True, num_workers=4, drop_last=True)\n",
        "valLoader = torch.utils.data.DataLoader(test_dataset, batch_size=bs, shuffle=False, num_workers=4, drop_last=True)\n",
        "\n",
        "model = NCF(dataset.get_user_number(), dataset.get_movie_number(),\n",
        "            dim=EMBEDDING_DIM, first_layer=layer).cuda(0)\n",
        "\n",
        "optim = Adam(model.parameters(), lr=lr)\n",
        "loss = nn.L1Loss()\n",
        "epoch = 100\n",
        "\n",
        "nf_out = trainer(trainLoader, valLoader, model, optim, loss, epoch, 'ncf_model', False)\n",
        "\n",
        "print(\"Batch Size: {} | First Layer Neuron: {} | Learning Rate: {} - Min. Val. Loss: {}\".format(bs,\n",
        "                                                                                                layer,\n",
        "                                                                                                lr,\n",
        "                                                                                                nf_out['min_val_loss']))"
      ]
    },
    {
      "cell_type": "markdown",
      "metadata": {
        "id": "FbYRsSd_Ormc"
      },
      "source": [
        "### NGCF Training"
      ]
    },
    {
      "cell_type": "code",
      "execution_count": 34,
      "metadata": {
        "id": "CBL_lcc_Ormc"
      },
      "outputs": [],
      "source": [
        "# EMBEDDING_DIM = 64\n",
        "\n",
        "# GRID_SEARCH = {\n",
        "#     'batch_size': [256, 512, 1024],\n",
        "#     'layers': [[64,64], [64,64,64], [64,64,64,64]]\n",
        "# }"
      ]
    },
    {
      "cell_type": "code",
      "execution_count": 35,
      "metadata": {
        "scrolled": true,
        "id": "lPwlEftSOrmc"
      },
      "outputs": [],
      "source": [
        "# for bs in GRID_SEARCH['batch_size']:\n",
        "#     for layer in GRID_SEARCH['layers']:\n",
        "\n",
        "#         trainLoader = torch.utils.data.DataLoader(train_dataset, batch_size=bs, shuffle=True, num_workers=4, drop_last=True)\n",
        "#         valLoader = torch.utils.data.DataLoader(val_dataset, batch_size=bs, shuffle=False, num_workers=4, drop_last=True)\n",
        "\n",
        "#         model = NGCF(dataset.get_user_number(), dataset.get_movie_number(), rt, EMBEDDING_DIM, layers=layer).cuda(0)\n",
        "#         optim = Adam(model.parameters(), lr=1e-3)\n",
        "#         loss = nn.L1Loss()\n",
        "#         epoch = 20\n",
        "\n",
        "#         ncf_out = trainer(trainLoader, valLoader, model, optim, loss, epoch, 'ngcf_model', False)\n",
        "\n",
        "#         print(\"Batch Size: {} | First Layer Neuron: {} | Learning Rate: {} - Min. Val. Loss: {}\".format(bs,\n",
        "#                                                                                                         layer,\n",
        "#                                                                                                         lr,\n",
        "#                                                                                                         ncf_out['min_val_loss']))"
      ]
    },
    {
      "cell_type": "code",
      "execution_count": 36,
      "metadata": {
        "colab": {
          "base_uri": "https://localhost:8080/"
        },
        "id": "yaEjlCxGOrmc",
        "outputId": "6dba1477-598d-467c-9104-577310c4013b"
      },
      "outputs": [
        {
          "metadata": {
            "tags": null
          },
          "name": "stderr",
          "output_type": "stream",
          "text": [
            "/usr/local/lib/python3.10/dist-packages/torch/utils/data/dataloader.py:617: UserWarning: This DataLoader will create 4 worker processes in total. Our suggested max number of worker in current system is 2, which is smaller than what this DataLoader is going to create. Please be aware that excessive worker creation might get DataLoader running slow or even freeze, lower the worker number to avoid potential slowness/freeze if necessary.\n",
            "  warnings.warn(\n"
          ]
        },
        {
          "output_type": "stream",
          "name": "stdout",
          "text": [
            "Batch Size: 256 | First Layer Neuron: [64, 64, 64, 64] | Learning Rate: 0.005 - Min. Val. Loss: 0.722553435808573\n"
          ]
        },
        {
          "output_type": "stream",
          "name": "stderr",
          "text": [
            "<ipython-input-30-361a62dd9437>:29: FutureWarning: You are using `torch.load` with `weights_only=False` (the current default value), which uses the default pickle module implicitly. It is possible to construct malicious pickle data which will execute arbitrary code during unpickling (See https://github.com/pytorch/pytorch/blob/main/SECURITY.md#untrusted-models for more details). In a future release, the default value for `weights_only` will be flipped to `True`. This limits the functions that could be executed during unpickling. Arbitrary objects will no longer be allowed to be loaded via this mode unless they are explicitly allowlisted by the user via `torch.serialization.add_safe_globals`. We recommend you start setting `weights_only=True` for any use case where you don't have full control of the loaded file. Please open an issue on GitHub for any issues related to this experimental feature.\n",
            "  return torch.load(model_name + '_loss.pth.tar')\n"
          ]
        }
      ],
      "source": [
        "bs = 256\n",
        "layer = [64, 64, 64, 64]\n",
        "\n",
        "trainLoader = torch.utils.data.DataLoader(train_dataset, batch_size=bs, shuffle=True, num_workers=4, drop_last=True)\n",
        "valLoader = torch.utils.data.DataLoader(test_dataset, batch_size=bs, shuffle=False, num_workers=4, drop_last=True)\n",
        "\n",
        "model = NGCF(dataset.get_user_number(), dataset.get_movie_number(), rt, EMBEDDING_DIM, layers=layer).cuda(0)\n",
        "optim = Adam(model.parameters(), lr=1e-3)\n",
        "loss = nn.L1Loss()\n",
        "epoch = 100\n",
        "\n",
        "ncf_out = trainer(trainLoader, valLoader, model, optim, loss, epoch, 'ngcf_model', False)\n",
        "\n",
        "print(\"Batch Size: {} | First Layer Neuron: {} | Learning Rate: {} - Min. Val. Loss: {}\".format(bs,\n",
        "                                                                                                layer,\n",
        "                                                                                                lr,\n",
        "                                                                                                ncf_out['min_val_loss']))"
      ]
    },
    {
      "cell_type": "markdown",
      "metadata": {
        "id": "7YoHmka2Ormc"
      },
      "source": [
        "### Training Results"
      ]
    },
    {
      "cell_type": "code",
      "execution_count": 37,
      "metadata": {
        "colab": {
          "base_uri": "https://localhost:8080/"
        },
        "id": "ZiYuy977Ormc",
        "outputId": "fc6b1618-1185-4069-cbc4-85870c754b92"
      },
      "outputs": [
        {
          "metadata": {
            "tags": null
          },
          "name": "stderr",
          "output_type": "stream",
          "text": [
            "<ipython-input-37-342292d22135>:1: FutureWarning: You are using `torch.load` with `weights_only=False` (the current default value), which uses the default pickle module implicitly. It is possible to construct malicious pickle data which will execute arbitrary code during unpickling (See https://github.com/pytorch/pytorch/blob/main/SECURITY.md#untrusted-models for more details). In a future release, the default value for `weights_only` will be flipped to `True`. This limits the functions that could be executed during unpickling. Arbitrary objects will no longer be allowed to be loaded via this mode unless they are explicitly allowlisted by the user via `torch.serialization.add_safe_globals`. We recommend you start setting `weights_only=True` for any use case where you don't have full control of the loaded file. Please open an issue on GitHub for any issues related to this experimental feature.\n",
            "  nf_out = torch.load('ncf_model_loss.pth.tar')\n",
            "<ipython-input-37-342292d22135>:2: FutureWarning: You are using `torch.load` with `weights_only=False` (the current default value), which uses the default pickle module implicitly. It is possible to construct malicious pickle data which will execute arbitrary code during unpickling (See https://github.com/pytorch/pytorch/blob/main/SECURITY.md#untrusted-models for more details). In a future release, the default value for `weights_only` will be flipped to `True`. This limits the functions that could be executed during unpickling. Arbitrary objects will no longer be allowed to be loaded via this mode unless they are explicitly allowlisted by the user via `torch.serialization.add_safe_globals`. We recommend you start setting `weights_only=True` for any use case where you don't have full control of the loaded file. Please open an issue on GitHub for any issues related to this experimental feature.\n",
            "  ncf_out = torch.load('ngcf_model_loss.pth.tar')\n"
          ]
        }
      ],
      "source": [
        "nf_out = torch.load('ncf_model_loss.pth.tar')\n",
        "ncf_out = torch.load('ngcf_model_loss.pth.tar')"
      ]
    },
    {
      "cell_type": "code",
      "execution_count": 38,
      "metadata": {
        "colab": {
          "base_uri": "https://localhost:8080/",
          "height": 472
        },
        "id": "QnyapPH9Ormc",
        "outputId": "53dc1121-c7e7-4eb8-c39c-7cdc8150c74c"
      },
      "outputs": [
        {
          "output_type": "display_data",
          "data": {
            "text/plain": [
              "<Figure size 640x480 with 1 Axes>"
            ],
            "image/png": "[encoded data removed]"
          },
          "metadata": {}
        }
      ],
      "source": [
        "plt.title('NCF vs. NGCF')\n",
        "plt.plot(ncf_out['train_losses'], label='NGCF Train.')\n",
        "plt.plot(ncf_out['val_losses'], label='NGCF Val.', linestyle='--')\n",
        "plt.plot(nf_out['train_losses'], label='NCF Train.')\n",
        "plt.plot(nf_out['val_losses'], label='NCF Val.', linestyle='--')\n",
        "_ = plt.ylabel('L1 Loss')\n",
        "_ = plt.xlabel('Epoch')\n",
        "_ = plt.legend()\n",
        "plt.savefig('ncf_ngcf.png', bbox_inches='tight', dpi=200)"
      ]
    },
    {
      "cell_type": "markdown",
      "source": [
        "## LightGCN"
      ],
      "metadata": {
        "id": "-dO7dKMCiuWF"
      }
    },
    {
      "cell_type": "code",
      "source": [
        "import torch\n",
        "import torch.nn as nn\n",
        "import torch.optim as optim\n",
        "import numpy as np\n",
        "from torch.utils.data import DataLoader\n",
        "\n",
        "class LightGCN(nn.Module):\n",
        "    def __init__(self, num_users, num_movies, embedding_dim=64, num_layers=3):\n",
        "        super(LightGCN, self).__init__()\n",
        "        self.num_users = num_users\n",
        "        self.num_movies = num_movies\n",
        "        self.embedding_dim = embedding_dim\n",
        "        self.num_layers = num_layers\n",
        "\n",
        "        # Embeddings for users and movies\n",
        "        self.user_embedding = nn.Embedding(num_users, embedding_dim)\n",
        "        self.movie_embedding = nn.Embedding(num_movies, embedding_dim)\n",
        "\n",
        "        # Initialize embeddings\n",
        "        nn.init.normal_(self.user_embedding.weight, std=0.1)\n",
        "        nn.init.normal_(self.movie_embedding.weight, std=0.1)\n",
        "\n",
        "    def forward(self, user_ids, movie_ids):\n",
        "        user_emb = self.user_embedding(user_ids)\n",
        "        movie_emb = self.movie_embedding(movie_ids)\n",
        "\n",
        "        # Dot product for recommendation score\n",
        "        scores = torch.sum(user_emb * movie_emb, dim=-1)\n",
        "        return scores\n",
        "\n",
        "    # def bpr_loss(self, users, pos_items, neg_items):\n",
        "    #     user_emb = self.user_embedding(users)\n",
        "    #     pos_emb = self.movie_embedding(pos_items)\n",
        "    #     neg_emb = self.movie_embedding(neg_items)\n",
        "\n",
        "    #     pos_scores = torch.sum(user_emb * pos_emb, dim=-1)\n",
        "    #     neg_scores = torch.sum(user_emb * neg_emb, dim=-1)\n",
        "\n",
        "    #     loss = -torch.mean(torch.log(torch.sigmoid(pos_scores - neg_scores)))\n",
        "    #     return loss\n"
      ],
      "metadata": {
        "id": "JXDt0KtxxJA6"
      },
      "execution_count": 39,
      "outputs": []
    },
    {
      "cell_type": "code",
      "source": [
        "# Prepare DataLoaders\n",
        "batch_size = 1024\n",
        "\n",
        "train_loader = DataLoader(train_dataset, batch_size=batch_size, shuffle=True)\n",
        "val_loader = DataLoader(val_dataset, batch_size=batch_size, shuffle=False)\n",
        "test_loader = DataLoader(test_dataset, batch_size=batch_size, shuffle=False)\n"
      ],
      "metadata": {
        "id": "keH3aGJaxLsH"
      },
      "execution_count": 40,
      "outputs": []
    },
    {
      "cell_type": "code",
      "source": [
        "# Initialize LightGCN model\n",
        "embedding_dim = 64\n",
        "num_users = dataset.get_user_number()\n",
        "num_movies = dataset.get_movie_number()\n",
        "\n",
        "model = LightGCN(num_users, num_movies, embedding_dim=embedding_dim).to('cuda')\n",
        "optimizer = optim.Adam(model.parameters(), lr=0.001)\n",
        "criterion = nn.L1Loss()  #  Loss\n",
        "\n",
        "# Training loop\n",
        "epochs = 100\n",
        "lightgcn_train_losses = []\n",
        "for epoch in range(epochs):\n",
        "    model.train()\n",
        "    total_loss = 0\n",
        "\n",
        "    for batch in train_loader:\n",
        "        user_ids = batch['user'].to('cuda')\n",
        "        movie_ids = batch['movie'].to('cuda')\n",
        "        ratings = batch['rating'].float().to('cuda')  # True ratings\n",
        "\n",
        "        optimizer.zero_grad()\n",
        "        predicted_ratings = model(user_ids, movie_ids)\n",
        "        loss = criterion(predicted_ratings, ratings)\n",
        "        loss.backward()\n",
        "        optimizer.step()\n",
        "\n",
        "        total_loss += loss.item()\n",
        "     # Save epoch loss for LightGCN\n",
        "    epoch_loss = total_loss / len(train_loader)\n",
        "    lightgcn_train_losses.append(epoch_loss)\n",
        "    print(f\"Epoch {epoch+1}/{epochs}, Loss: {total_loss / len(train_loader):.4f}\")\n"
      ],
      "metadata": {
        "colab": {
          "base_uri": "https://localhost:8080/"
        },
        "id": "6q0pkqo6xTcP",
        "outputId": "4dd2e03d-3b41-4eab-c350-673b011fb00f"
      },
      "execution_count": 41,
      "outputs": [
        {
          "output_type": "stream",
          "name": "stdout",
          "text": [
            "Epoch 1/100, Loss: 3.5301\n",
            "Epoch 2/100, Loss: 3.5158\n",
            "Epoch 3/100, Loss: 3.4947\n",
            "Epoch 4/100, Loss: 3.4474\n",
            "Epoch 5/100, Loss: 3.3229\n",
            "Epoch 6/100, Loss: 3.0110\n",
            "Epoch 7/100, Loss: 2.3795\n",
            "Epoch 8/100, Loss: 1.5614\n",
            "Epoch 9/100, Loss: 1.0811\n",
            "Epoch 10/100, Loss: 0.8890\n",
            "Epoch 11/100, Loss: 0.7988\n",
            "Epoch 12/100, Loss: 0.7498\n",
            "Epoch 13/100, Loss: 0.7189\n",
            "Epoch 14/100, Loss: 0.6965\n",
            "Epoch 15/100, Loss: 0.6783\n",
            "Epoch 16/100, Loss: 0.6622\n",
            "Epoch 17/100, Loss: 0.6471\n",
            "Epoch 18/100, Loss: 0.6332\n",
            "Epoch 19/100, Loss: 0.6192\n",
            "Epoch 20/100, Loss: 0.6055\n",
            "Epoch 21/100, Loss: 0.5925\n",
            "Epoch 22/100, Loss: 0.5786\n",
            "Epoch 23/100, Loss: 0.5660\n",
            "Epoch 24/100, Loss: 0.5534\n",
            "Epoch 25/100, Loss: 0.5414\n",
            "Epoch 26/100, Loss: 0.5288\n",
            "Epoch 27/100, Loss: 0.5168\n",
            "Epoch 28/100, Loss: 0.5049\n",
            "Epoch 29/100, Loss: 0.4932\n",
            "Epoch 30/100, Loss: 0.4821\n",
            "Epoch 31/100, Loss: 0.4709\n",
            "Epoch 32/100, Loss: 0.4602\n",
            "Epoch 33/100, Loss: 0.4500\n",
            "Epoch 34/100, Loss: 0.4399\n",
            "Epoch 35/100, Loss: 0.4297\n",
            "Epoch 36/100, Loss: 0.4203\n",
            "Epoch 37/100, Loss: 0.4112\n",
            "Epoch 38/100, Loss: 0.4017\n",
            "Epoch 39/100, Loss: 0.3930\n",
            "Epoch 40/100, Loss: 0.3845\n",
            "Epoch 41/100, Loss: 0.3763\n",
            "Epoch 42/100, Loss: 0.3677\n",
            "Epoch 43/100, Loss: 0.3600\n",
            "Epoch 44/100, Loss: 0.3526\n",
            "Epoch 45/100, Loss: 0.3449\n",
            "Epoch 46/100, Loss: 0.3379\n",
            "Epoch 47/100, Loss: 0.3311\n",
            "Epoch 48/100, Loss: 0.3242\n",
            "Epoch 49/100, Loss: 0.3180\n",
            "Epoch 50/100, Loss: 0.3117\n",
            "Epoch 51/100, Loss: 0.3055\n",
            "Epoch 52/100, Loss: 0.2996\n",
            "Epoch 53/100, Loss: 0.2935\n",
            "Epoch 54/100, Loss: 0.2878\n",
            "Epoch 55/100, Loss: 0.2827\n",
            "Epoch 56/100, Loss: 0.2771\n",
            "Epoch 57/100, Loss: 0.2719\n",
            "Epoch 58/100, Loss: 0.2669\n",
            "Epoch 59/100, Loss: 0.2623\n",
            "Epoch 60/100, Loss: 0.2572\n",
            "Epoch 61/100, Loss: 0.2528\n",
            "Epoch 62/100, Loss: 0.2480\n",
            "Epoch 63/100, Loss: 0.2437\n",
            "Epoch 64/100, Loss: 0.2396\n",
            "Epoch 65/100, Loss: 0.2354\n",
            "Epoch 66/100, Loss: 0.2314\n",
            "Epoch 67/100, Loss: 0.2272\n",
            "Epoch 68/100, Loss: 0.2235\n",
            "Epoch 69/100, Loss: 0.2199\n",
            "Epoch 70/100, Loss: 0.2164\n",
            "Epoch 71/100, Loss: 0.2125\n",
            "Epoch 72/100, Loss: 0.2089\n",
            "Epoch 73/100, Loss: 0.2056\n",
            "Epoch 74/100, Loss: 0.2025\n",
            "Epoch 75/100, Loss: 0.1992\n",
            "Epoch 76/100, Loss: 0.1964\n",
            "Epoch 77/100, Loss: 0.1930\n",
            "Epoch 78/100, Loss: 0.1902\n",
            "Epoch 79/100, Loss: 0.1871\n",
            "Epoch 80/100, Loss: 0.1848\n",
            "Epoch 81/100, Loss: 0.1817\n",
            "Epoch 82/100, Loss: 0.1791\n",
            "Epoch 83/100, Loss: 0.1766\n",
            "Epoch 84/100, Loss: 0.1741\n",
            "Epoch 85/100, Loss: 0.1716\n",
            "Epoch 86/100, Loss: 0.1693\n",
            "Epoch 87/100, Loss: 0.1666\n",
            "Epoch 88/100, Loss: 0.1645\n",
            "Epoch 89/100, Loss: 0.1624\n",
            "Epoch 90/100, Loss: 0.1601\n",
            "Epoch 91/100, Loss: 0.1580\n",
            "Epoch 92/100, Loss: 0.1558\n",
            "Epoch 93/100, Loss: 0.1540\n",
            "Epoch 94/100, Loss: 0.1518\n",
            "Epoch 95/100, Loss: 0.1499\n",
            "Epoch 96/100, Loss: 0.1478\n",
            "Epoch 97/100, Loss: 0.1462\n",
            "Epoch 98/100, Loss: 0.1442\n",
            "Epoch 99/100, Loss: 0.1423\n",
            "Epoch 100/100, Loss: 0.1409\n"
          ]
        }
      ]
    },
    {
      "cell_type": "code",
      "source": [
        "import matplotlib.pyplot as plt\n",
        "\n",
        "# # Initialize lists to store LightGCN losses\n",
        "# lightgcn_train_losses = []\n",
        "\n",
        "# # Training loop\n",
        "# epochs = 20\n",
        "# for epoch in range(epochs):\n",
        "#     model.train()\n",
        "#     total_loss = 0\n",
        "\n",
        "#     for batch in train_loader:\n",
        "#         user_ids = batch['user'].to('cuda')\n",
        "#         movie_ids = batch['movie'].to('cuda')\n",
        "#         ratings = batch['rating'].float().to('cuda')  # True ratings\n",
        "\n",
        "#         optimizer.zero_grad()\n",
        "#         predicted_ratings = model(user_ids, movie_ids)\n",
        "#         loss = criterion(predicted_ratings, ratings)\n",
        "#         loss.backward()\n",
        "#         optimizer.step()\n",
        "\n",
        "#         total_loss += loss.item()\n",
        "\n",
        "#     # Save epoch loss for LightGCN\n",
        "#     epoch_loss = total_loss / len(train_loader)\n",
        "#     lightgcn_train_losses.append(epoch_loss)\n",
        "#     print(f\"Epoch {epoch+1}/{epochs}, Loss: {epoch_loss:.4f}\")\n",
        "\n",
        "# Plot the results\n",
        "plt.title('NCF vs. NGCF vs. LightGCN')\n",
        "plt.plot(ncf_out['train_losses'], label='NGCF Train.')\n",
        "plt.plot(ncf_out['val_losses'], label='NGCF Val.', linestyle='--')\n",
        "plt.plot(nf_out['train_losses'], label='NCF Train.')\n",
        "plt.plot(nf_out['val_losses'], label='NCF Val.', linestyle='--')\n",
        "plt.plot(lightgcn_train_losses, label='LightGCN Train.')  # Use the list of losses\n",
        "plt.ylabel('L1 Loss')\n",
        "plt.xlabel('Epoch')\n",
        "plt.legend()\n",
        "plt.savefig('ncf_ngcf.png', bbox_inches='tight', dpi=200)\n",
        "plt.show()\n"
      ],
      "metadata": {
        "id": "IpS9hD_tqQBW",
        "outputId": "c5b683aa-cb88-4e68-e915-2fb6eae65354",
        "colab": {
          "base_uri": "https://localhost:8080/",
          "height": 472
        }
      },
      "execution_count": 42,
      "outputs": [
        {
          "output_type": "display_data",
          "data": {
            "text/plain": [
              "<Figure size 640x480 with 1 Axes>"
            ],
            "image/png": "[encoded data removed]"
          },
          "metadata": {}
        }
      ]
    },
    {
      "cell_type": "markdown",
      "metadata": {
        "id": "OaWJ-kHlOrmc"
      },
      "source": [
        "***\n",
        "\n",
        "## References\n",
        "\n",
        "[1] _He, Xiangnan, et al. \"Neural collaborative filtering.\" Proceedings of the 26th international conference on world wide web. International World Wide Web Conferences Steering Committee, 2017._\n",
        "\n",
        "[2] _Wang, Xiang, et al. \"Neural Graph Collaborative Filtering.\" arXiv preprint arXiv:1905.08108 (2019)._\n",
        "\n",
        "[3] _https://github.com/talkingwallace/NGCF-pytorch_"
      ]
    }
  ],
  "metadata": {
    "anaconda-cloud": {},
    "kernelspec": {
      "display_name": "project",
      "language": "python",
      "name": "other-env"
    },
    "language_info": {
      "codemirror_mode": {
        "name": "ipython",
        "version": 3
      },
      "file_extension": ".py",
      "mimetype": "text/x-python",
      "name": "python",
      "nbconvert_exporter": "python",
      "pygments_lexer": "ipython3",
      "version": "3.6.8"
    },
    "colab": {
      "provenance": [],
      "gpuType": "T4"
    },
    "accelerator": "GPU"
  },
  "nbformat": 4,
  "nbformat_minor": 0
}